{
 "cells": [
  {
   "cell_type": "markdown",
   "metadata": {},
   "source": [
    "## Functions"
   ]
  },
  {
   "cell_type": "code",
   "execution_count": 3,
   "metadata": {},
   "outputs": [],
   "source": [
    "import pandas as pd\n",
    "import numpy as np\n",
    "import surprise as sp\n",
    "from surprise.model_selection import train_test_split\n",
    "from surprise.model_selection import GridSearchCV\n",
    "from surprise.model_selection import cross_validate\n",
    "from sklearn.cluster import KMeans\n",
    "import seaborn as sns\n",
    "import matplotlib.pyplot as plt\n",
    "\n",
    "%matplotlib notebook"
   ]
  },
  {
   "cell_type": "code",
   "execution_count": 4,
   "metadata": {},
   "outputs": [],
   "source": [
    "def prep_data(sheet):\n",
    "    dfm = pd.read_excel('TestData.xlsx', sheet_name = sheet)\n",
    "    df_flat = dfm.melt(id_vars=['Req'])\n",
    "    df_flat = df_flat.dropna()\n",
    "    df_flat.columns = ['Req','Candidate','Score']\n",
    "    df_flat = df_flat.dropna()\n",
    "    df_new = df_flat[['Candidate','Req','Score']]\n",
    "    reader = sp.Reader(rating_scale=(0, 1))\n",
    "    data = sp.Dataset.load_from_df(df_new, reader)\n",
    "    trainset, testset = train_test_split(data, test_size=0.25)\n",
    "    \n",
    "    return trainset, testset, data"
   ]
  },
  {
   "cell_type": "code",
   "execution_count": 14,
   "metadata": {},
   "outputs": [],
   "source": [
    "def tuning(data):\n",
    "    param_grid = {'n_factors': [2,3,4], 'n_epochs': [100, 1000, 1500], 'lr_all': [0.001, 0.003, 0.010],\n",
    "              'reg_all': [0.03, 0.10, 0.30]}\n",
    "    gs = GridSearchCV(sp.SVD, param_grid, measures=['rmse', 'mae'], cv=3)\n",
    "    gs.fit(data)\n",
    "    model = gs.best_estimator['rmse']\n",
    "    print('RMSE of best model:',gs.best_score['rmse'])\n",
    "    print('Parameters of best model:',gs.best_params['rmse'])\n",
    "    cross_validate(model, data, measures=['RMSE', 'MAE'], cv=5, verbose=True)\n",
    "    \n",
    "    best_params = gs.best_params['rmse']\n",
    "    return model, best_params"
   ]
  },
  {
   "cell_type": "code",
   "execution_count": 28,
   "metadata": {},
   "outputs": [],
   "source": [
    "def CF(model, trainset, testset, n_factors):\n",
    "    \n",
    "    # Train the model on the trainset, and predict ratings for the testset\n",
    "    model.fit(trainset)\n",
    "    predictions = model.test(testset)\n",
    "    sp.accuracy.rmse(predictions) # Then compute RMSE\n",
    "    print(pd.DataFrame(predictions).head()) # show some predictions\n",
    "    # model.predict('CA30','JR20') # now, let's test accuracy of predictions on empty cells\n",
    "    \n",
    "    # create a df with all the factors (features), in correct order of the reqs\n",
    "    req_list = [trainset.to_raw_iid(i) for i in range(0,20)]\n",
    "    factors_df = pd.DataFrame({'f'+str(i):model.qi[:,i] for i in range(0,n_factors)}) \n",
    "    factors_df.index = req_list\n",
    "    factors_df.sort_index(inplace=True)\n",
    "    \n",
    "    return factors_df"
   ]
  },
  {
   "cell_type": "code",
   "execution_count": 7,
   "metadata": {},
   "outputs": [],
   "source": [
    "def cluster(factors_df, n_clusters):\n",
    "    kmeans = KMeans(n_clusters=n_clusters, random_state=99).fit(factors_df)\n",
    "    clustered_df = factors_df.copy() # don't change the original df, but create a new one\n",
    "    clustered_df['Cluster'] = kmeans.labels_\n",
    "    average_score = kmeans.inertia_/len(factors_df)\n",
    "    return clustered_df, average_score"
   ]
  },
  {
   "cell_type": "markdown",
   "metadata": {},
   "source": [
    "## Tune & Run"
   ]
  },
  {
   "cell_type": "code",
   "execution_count": 8,
   "metadata": {},
   "outputs": [],
   "source": [
    "trainset, testset, data = prep_data('Matrix5') # load the data from excel and prepare it"
   ]
  },
  {
   "cell_type": "code",
   "execution_count": 16,
   "metadata": {},
   "outputs": [
    {
     "name": "stdout",
     "output_type": "stream",
     "text": [
      "RMSE of best model: 0.44119926385648806\n",
      "Parameters of best model: {'n_factors': 3, 'n_epochs': 1000, 'lr_all': 0.003, 'reg_all': 0.1}\n",
      "Evaluating RMSE, MAE of algorithm SVD on 5 split(s).\n",
      "\n",
      "                  Fold 1  Fold 2  Fold 3  Fold 4  Fold 5  Mean    Std     \n",
      "RMSE (testset)    0.4376  0.4234  0.4024  0.4097  0.4329  0.4212  0.0134  \n",
      "MAE (testset)     0.3539  0.3450  0.3058  0.3136  0.3406  0.3318  0.0187  \n",
      "Fit time          0.27    0.27    0.26    0.26    0.26    0.26    0.01    \n",
      "Test time         0.00    0.00    0.00    0.00    0.00    0.00    0.00    \n"
     ]
    }
   ],
   "source": [
    "model, best_params = tuning(data) # find the best hyperparameters and get the model with these parameters"
   ]
  },
  {
   "cell_type": "code",
   "execution_count": 19,
   "metadata": {},
   "outputs": [
    {
     "name": "stdout",
     "output_type": "stream",
     "text": [
      "RMSE: 0.4305\n",
      "    uid   iid  r_ui       est                    details\n",
      "0  CA03  JR05   1.0  0.475071  {'was_impossible': False}\n",
      "1  CA14  JR09   0.0  0.597194  {'was_impossible': False}\n",
      "2  CA04  JR17   0.0  0.120454  {'was_impossible': False}\n",
      "3  CA08  JR17   0.0  0.044157  {'was_impossible': False}\n",
      "4  CA12  JR08   0.0  0.293318  {'was_impossible': False}\n"
     ]
    }
   ],
   "source": [
    "n_factors = best_params['n_factors']\n",
    "factors_df = CF(model, trainset, testset, n_factors) # Apply collaborative filtering model to extract features of the reqs"
   ]
  },
  {
   "cell_type": "code",
   "execution_count": 20,
   "metadata": {},
   "outputs": [
    {
     "data": {
      "text/html": [
       "<div>\n",
       "<style scoped>\n",
       "    .dataframe tbody tr th:only-of-type {\n",
       "        vertical-align: middle;\n",
       "    }\n",
       "\n",
       "    .dataframe tbody tr th {\n",
       "        vertical-align: top;\n",
       "    }\n",
       "\n",
       "    .dataframe thead th {\n",
       "        text-align: right;\n",
       "    }\n",
       "</style>\n",
       "<table border=\"1\" class=\"dataframe\">\n",
       "  <thead>\n",
       "    <tr style=\"text-align: right;\">\n",
       "      <th></th>\n",
       "      <th>f0</th>\n",
       "      <th>f1</th>\n",
       "      <th>f2</th>\n",
       "    </tr>\n",
       "  </thead>\n",
       "  <tbody>\n",
       "    <tr>\n",
       "      <th>JR01</th>\n",
       "      <td>0.418293</td>\n",
       "      <td>-0.324282</td>\n",
       "      <td>0.078071</td>\n",
       "    </tr>\n",
       "    <tr>\n",
       "      <th>JR02</th>\n",
       "      <td>0.353298</td>\n",
       "      <td>-0.538345</td>\n",
       "      <td>-0.057192</td>\n",
       "    </tr>\n",
       "    <tr>\n",
       "      <th>JR03</th>\n",
       "      <td>0.079476</td>\n",
       "      <td>-0.496711</td>\n",
       "      <td>-0.058932</td>\n",
       "    </tr>\n",
       "    <tr>\n",
       "      <th>JR04</th>\n",
       "      <td>0.348266</td>\n",
       "      <td>-0.299642</td>\n",
       "      <td>-0.116256</td>\n",
       "    </tr>\n",
       "    <tr>\n",
       "      <th>JR05</th>\n",
       "      <td>0.152701</td>\n",
       "      <td>-0.450069</td>\n",
       "      <td>-0.013337</td>\n",
       "    </tr>\n",
       "    <tr>\n",
       "      <th>JR06</th>\n",
       "      <td>-0.356670</td>\n",
       "      <td>-0.048485</td>\n",
       "      <td>-0.048078</td>\n",
       "    </tr>\n",
       "    <tr>\n",
       "      <th>JR07</th>\n",
       "      <td>-0.325228</td>\n",
       "      <td>0.046826</td>\n",
       "      <td>-0.335077</td>\n",
       "    </tr>\n",
       "    <tr>\n",
       "      <th>JR08</th>\n",
       "      <td>-0.066346</td>\n",
       "      <td>0.042961</td>\n",
       "      <td>-0.231159</td>\n",
       "    </tr>\n",
       "    <tr>\n",
       "      <th>JR09</th>\n",
       "      <td>-0.420479</td>\n",
       "      <td>0.000667</td>\n",
       "      <td>-0.153011</td>\n",
       "    </tr>\n",
       "    <tr>\n",
       "      <th>JR10</th>\n",
       "      <td>-0.329952</td>\n",
       "      <td>0.030380</td>\n",
       "      <td>-0.415367</td>\n",
       "    </tr>\n",
       "  </tbody>\n",
       "</table>\n",
       "</div>"
      ],
      "text/plain": [
       "            f0        f1        f2\n",
       "JR01  0.418293 -0.324282  0.078071\n",
       "JR02  0.353298 -0.538345 -0.057192\n",
       "JR03  0.079476 -0.496711 -0.058932\n",
       "JR04  0.348266 -0.299642 -0.116256\n",
       "JR05  0.152701 -0.450069 -0.013337\n",
       "JR06 -0.356670 -0.048485 -0.048078\n",
       "JR07 -0.325228  0.046826 -0.335077\n",
       "JR08 -0.066346  0.042961 -0.231159\n",
       "JR09 -0.420479  0.000667 -0.153011\n",
       "JR10 -0.329952  0.030380 -0.415367"
      ]
     },
     "execution_count": 20,
     "metadata": {},
     "output_type": "execute_result"
    }
   ],
   "source": [
    "factors_df.head(10)"
   ]
  },
  {
   "cell_type": "code",
   "execution_count": 22,
   "metadata": {},
   "outputs": [],
   "source": [
    "# find the optimal number of clusters\n",
    "def clusters_chart(factors_df, max_clusters=10):\n",
    "    cluster_results = np.zeros([max_clusters, 2])\n",
    "    for clusters in range(1,max_clusters+1):\n",
    "        _, average_score = cluster(factors_df, clusters) # Cluster the reqs based on discovered features\n",
    "        cluster_results[clusters-1,0] = clusters\n",
    "        cluster_results[clusters-1,1] = average_score\n",
    "    plt.figure()\n",
    "    plt.plot(cluster_results[:,0],cluster_results[:,1])\n",
    "    return cluster_results"
   ]
  },
  {
   "cell_type": "code",
   "execution_count": 23,
   "metadata": {},
   "outputs": [
    {
     "data": {
      "image/png": "[encoded data removed]",
      "text/plain": [
       "<Figure size 432x288 with 1 Axes>"
      ]
     },
     "metadata": {},
     "output_type": "display_data"
    }
   ],
   "source": [
    "ar = clusters_chart(factors_df, 7)"
   ]
  },
  {
   "cell_type": "code",
   "execution_count": 24,
   "metadata": {},
   "outputs": [],
   "source": [
    "# now, after we manually select the number of clusters by looking at the chart, we can re-apply clustering\n",
    "clustered_factors, _ = cluster(factors_df, 3)"
   ]
  },
  {
   "cell_type": "markdown",
   "metadata": {},
   "source": [
    "## Examine Results"
   ]
  },
  {
   "cell_type": "code",
   "execution_count": 25,
   "metadata": {},
   "outputs": [
    {
     "data": {
      "text/plain": [
       "2    9\n",
       "1    6\n",
       "0    5\n",
       "Name: Cluster, dtype: int64"
      ]
     },
     "execution_count": 25,
     "metadata": {},
     "output_type": "execute_result"
    }
   ],
   "source": [
    "clustered_factors.Cluster.value_counts()"
   ]
  },
  {
   "cell_type": "code",
   "execution_count": 26,
   "metadata": {},
   "outputs": [
    {
     "data": {
      "text/html": [
       "<div>\n",
       "<style scoped>\n",
       "    .dataframe tbody tr th:only-of-type {\n",
       "        vertical-align: middle;\n",
       "    }\n",
       "\n",
       "    .dataframe tbody tr th {\n",
       "        vertical-align: top;\n",
       "    }\n",
       "\n",
       "    .dataframe thead th {\n",
       "        text-align: right;\n",
       "    }\n",
       "</style>\n",
       "<table border=\"1\" class=\"dataframe\">\n",
       "  <thead>\n",
       "    <tr style=\"text-align: right;\">\n",
       "      <th></th>\n",
       "      <th>f0</th>\n",
       "      <th>f1</th>\n",
       "      <th>f2</th>\n",
       "      <th>Cluster</th>\n",
       "    </tr>\n",
       "  </thead>\n",
       "  <tbody>\n",
       "    <tr>\n",
       "      <th>JR01</th>\n",
       "      <td>0.418293</td>\n",
       "      <td>-0.324282</td>\n",
       "      <td>0.078071</td>\n",
       "      <td>0</td>\n",
       "    </tr>\n",
       "    <tr>\n",
       "      <th>JR02</th>\n",
       "      <td>0.353298</td>\n",
       "      <td>-0.538345</td>\n",
       "      <td>-0.057192</td>\n",
       "      <td>0</td>\n",
       "    </tr>\n",
       "    <tr>\n",
       "      <th>JR03</th>\n",
       "      <td>0.079476</td>\n",
       "      <td>-0.496711</td>\n",
       "      <td>-0.058932</td>\n",
       "      <td>0</td>\n",
       "    </tr>\n",
       "    <tr>\n",
       "      <th>JR04</th>\n",
       "      <td>0.348266</td>\n",
       "      <td>-0.299642</td>\n",
       "      <td>-0.116256</td>\n",
       "      <td>0</td>\n",
       "    </tr>\n",
       "    <tr>\n",
       "      <th>JR05</th>\n",
       "      <td>0.152701</td>\n",
       "      <td>-0.450069</td>\n",
       "      <td>-0.013337</td>\n",
       "      <td>0</td>\n",
       "    </tr>\n",
       "    <tr>\n",
       "      <th>JR06</th>\n",
       "      <td>-0.356670</td>\n",
       "      <td>-0.048485</td>\n",
       "      <td>-0.048078</td>\n",
       "      <td>2</td>\n",
       "    </tr>\n",
       "    <tr>\n",
       "      <th>JR07</th>\n",
       "      <td>-0.325228</td>\n",
       "      <td>0.046826</td>\n",
       "      <td>-0.335077</td>\n",
       "      <td>2</td>\n",
       "    </tr>\n",
       "    <tr>\n",
       "      <th>JR08</th>\n",
       "      <td>-0.066346</td>\n",
       "      <td>0.042961</td>\n",
       "      <td>-0.231159</td>\n",
       "      <td>2</td>\n",
       "    </tr>\n",
       "    <tr>\n",
       "      <th>JR09</th>\n",
       "      <td>-0.420479</td>\n",
       "      <td>0.000667</td>\n",
       "      <td>-0.153011</td>\n",
       "      <td>2</td>\n",
       "    </tr>\n",
       "    <tr>\n",
       "      <th>JR10</th>\n",
       "      <td>-0.329952</td>\n",
       "      <td>0.030380</td>\n",
       "      <td>-0.415367</td>\n",
       "      <td>2</td>\n",
       "    </tr>\n",
       "    <tr>\n",
       "      <th>JR11</th>\n",
       "      <td>-0.162360</td>\n",
       "      <td>-0.009066</td>\n",
       "      <td>-0.036459</td>\n",
       "      <td>2</td>\n",
       "    </tr>\n",
       "    <tr>\n",
       "      <th>JR12</th>\n",
       "      <td>-0.396738</td>\n",
       "      <td>-0.029482</td>\n",
       "      <td>-0.373384</td>\n",
       "      <td>2</td>\n",
       "    </tr>\n",
       "    <tr>\n",
       "      <th>JR13</th>\n",
       "      <td>-0.316352</td>\n",
       "      <td>0.070683</td>\n",
       "      <td>-0.071020</td>\n",
       "      <td>2</td>\n",
       "    </tr>\n",
       "    <tr>\n",
       "      <th>JR14</th>\n",
       "      <td>-0.155307</td>\n",
       "      <td>0.126751</td>\n",
       "      <td>-0.349387</td>\n",
       "      <td>2</td>\n",
       "    </tr>\n",
       "    <tr>\n",
       "      <th>JR15</th>\n",
       "      <td>0.105723</td>\n",
       "      <td>0.237497</td>\n",
       "      <td>0.378938</td>\n",
       "      <td>1</td>\n",
       "    </tr>\n",
       "    <tr>\n",
       "      <th>JR16</th>\n",
       "      <td>0.054041</td>\n",
       "      <td>0.184282</td>\n",
       "      <td>0.290284</td>\n",
       "      <td>1</td>\n",
       "    </tr>\n",
       "    <tr>\n",
       "      <th>JR17</th>\n",
       "      <td>0.278250</td>\n",
       "      <td>0.251110</td>\n",
       "      <td>0.225556</td>\n",
       "      <td>1</td>\n",
       "    </tr>\n",
       "    <tr>\n",
       "      <th>JR18</th>\n",
       "      <td>0.161213</td>\n",
       "      <td>0.375388</td>\n",
       "      <td>0.395197</td>\n",
       "      <td>1</td>\n",
       "    </tr>\n",
       "    <tr>\n",
       "      <th>JR19</th>\n",
       "      <td>0.148432</td>\n",
       "      <td>0.304845</td>\n",
       "      <td>0.393031</td>\n",
       "      <td>1</td>\n",
       "    </tr>\n",
       "    <tr>\n",
       "      <th>JR20</th>\n",
       "      <td>0.303434</td>\n",
       "      <td>0.319039</td>\n",
       "      <td>0.223166</td>\n",
       "      <td>1</td>\n",
       "    </tr>\n",
       "  </tbody>\n",
       "</table>\n",
       "</div>"
      ],
      "text/plain": [
       "            f0        f1        f2  Cluster\n",
       "JR01  0.418293 -0.324282  0.078071        0\n",
       "JR02  0.353298 -0.538345 -0.057192        0\n",
       "JR03  0.079476 -0.496711 -0.058932        0\n",
       "JR04  0.348266 -0.299642 -0.116256        0\n",
       "JR05  0.152701 -0.450069 -0.013337        0\n",
       "JR06 -0.356670 -0.048485 -0.048078        2\n",
       "JR07 -0.325228  0.046826 -0.335077        2\n",
       "JR08 -0.066346  0.042961 -0.231159        2\n",
       "JR09 -0.420479  0.000667 -0.153011        2\n",
       "JR10 -0.329952  0.030380 -0.415367        2\n",
       "JR11 -0.162360 -0.009066 -0.036459        2\n",
       "JR12 -0.396738 -0.029482 -0.373384        2\n",
       "JR13 -0.316352  0.070683 -0.071020        2\n",
       "JR14 -0.155307  0.126751 -0.349387        2\n",
       "JR15  0.105723  0.237497  0.378938        1\n",
       "JR16  0.054041  0.184282  0.290284        1\n",
       "JR17  0.278250  0.251110  0.225556        1\n",
       "JR18  0.161213  0.375388  0.395197        1\n",
       "JR19  0.148432  0.304845  0.393031        1\n",
       "JR20  0.303434  0.319039  0.223166        1"
      ]
     },
     "execution_count": 26,
     "metadata": {},
     "output_type": "execute_result"
    }
   ],
   "source": [
    "clustered_factors"
   ]
  },
  {
   "cell_type": "code",
   "execution_count": 27,
   "metadata": {},
   "outputs": [
    {
     "data": {
      "image/png": "[encoded data removed]",
      "text/plain": [
       "<Figure size 576x432 with 12 Axes>"
      ]
     },
     "metadata": {},
     "output_type": "display_data"
    }
   ],
   "source": [
    "# create pair plot\n",
    "plot_data = clustered_factors.copy()\n",
    "plot_data['StrCluster'] = 'Cluster ' + plot_data.Cluster.astype(str) # convert cluster column to string\n",
    "plot_data.drop(columns = ['Cluster'], inplace = True) # remove the numeric cluster column\n",
    "sns.pairplot(plot_data, hue = 'StrCluster'); # show pair plot\n",
    "fig = plt.gcf()\n",
    "fig.set_size_inches(8, 6)"
   ]
  },
  {
   "cell_type": "code",
   "execution_count": null,
   "metadata": {},
   "outputs": [],
   "source": []
  }
 ],
 "metadata": {
  "kernelspec": {
   "display_name": "Python 3",
   "language": "python",
   "name": "python3"
  },
  "language_info": {
   "codemirror_mode": {
    "name": "ipython",
    "version": 3
   },
   "file_extension": ".py",
   "mimetype": "text/x-python",
   "name": "python",
   "nbconvert_exporter": "python",
   "pygments_lexer": "ipython3",
   "version": "3.6.5"
  },
  "toc": {
   "base_numbering": 1,
   "nav_menu": {},
   "number_sections": true,
   "sideBar": true,
   "skip_h1_title": false,
   "title_cell": "Table of Contents",
   "title_sidebar": "Contents",
   "toc_cell": false,
   "toc_position": {},
   "toc_section_display": true,
   "toc_window_display": true
  },
  "varInspector": {
   "cols": {
    "lenName": 16,
    "lenType": 16,
    "lenVar": 40
   },
   "kernels_config": {
    "python": {
     "delete_cmd_postfix": "",
     "delete_cmd_prefix": "del ",
     "library": "var_list.py",
     "varRefreshCmd": "print(var_dic_list())"
    },
    "r": {
     "delete_cmd_postfix": ") ",
     "delete_cmd_prefix": "rm(",
     "library": "var_list.r",
     "varRefreshCmd": "cat(var_dic_list()) "
    }
   },
   "types_to_exclude": [
    "module",
    "function",
    "builtin_function_or_method",
    "instance",
    "_Feature"
   ],
   "window_display": false
  }
 },
 "nbformat": 4,
 "nbformat_minor": 2
}
